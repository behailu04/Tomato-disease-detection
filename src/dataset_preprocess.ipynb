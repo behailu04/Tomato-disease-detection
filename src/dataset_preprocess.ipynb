{
 "metadata": {
  "language_info": {
   "codemirror_mode": {
    "name": "ipython",
    "version": 3
   },
   "file_extension": ".py",
   "mimetype": "text/x-python",
   "name": "python",
   "nbconvert_exporter": "python",
   "pygments_lexer": "ipython3",
   "version": "3.8.5"
  },
  "orig_nbformat": 2,
  "kernelspec": {
   "name": "python385jvsc74a57bd06201c4df8750c0992ca704eaf5569b6769922e34c2f238a3edb1737ab8d434f3",
   "display_name": "Python 3.8.5 64-bit ('base': conda)"
  }
 },
 "nbformat": 4,
 "nbformat_minor": 2,
 "cells": [
  {
   "cell_type": "code",
   "execution_count": 4,
   "metadata": {},
   "outputs": [],
   "source": [
    "import os\n",
    "import shutil\n",
    "import math"
   ]
  },
  {
   "cell_type": "code",
   "execution_count": 5,
   "metadata": {},
   "outputs": [],
   "source": [
    "tomato_dataset_dir = '../data/Tomato_dataset'\n",
    "classes_list = os.listdir(tomato_dataset_dir)\n",
    "\n",
    "base_dir = '../data/dataset'\n",
    "train_dir = os.path.join(base_dir, 'train')\n",
    "os.mkdir(train_dir)\n",
    "test_dir = os.path.join(base_dir, 'test')\n",
    "os.mkdir(test_dir)\n",
    "validation_dir = os.path.join(base_dir, 'validation')\n",
    "os.mkdir(validation_dir)\n",
    "\n",
    "for cls in classes_list:\n",
    "    os.mkdir(os.path.join(train_dir, cls))\n",
    "    os.mkdir(os.path.join(validation_dir, cls))\n",
    "    os.mkdir(os.path.join(test_dir, cls))"
   ]
  },
  {
   "cell_type": "code",
   "execution_count": 6,
   "metadata": {},
   "outputs": [
    {
     "output_type": "stream",
     "name": "stdout",
     "text": [
      "Train size( 9 ):  4285\n",
      "Validation size( 9 ):  803\n",
      "Test size( 9 ):  267\n",
      "Train size( 0 ):  1701\n",
      "Validation size( 0 ):  319\n",
      "Test size( 0 ):  106\n",
      "Train size( 7 ):  1123\n",
      "Validation size( 7 ):  210\n",
      "Test size( 7 ):  70\n",
      "Train size( 6 ):  1340\n",
      "Validation size( 6 ):  251\n",
      "Test size( 6 ):  83\n",
      "Train size( 1 ):  800\n",
      "Validation size( 1 ):  150\n",
      "Test size( 1 ):  50\n",
      "Train size( 8 ):  298\n",
      "Validation size( 8 ):  55\n",
      "Test size( 8 ):  18\n",
      "Train size( 4 ):  761\n",
      "Validation size( 4 ):  142\n",
      "Test size( 4 ):  47\n",
      "Train size( 3 ):  1527\n",
      "Validation size( 3 ):  286\n",
      "Test size( 3 ):  95\n",
      "Train size( 2 ):  1272\n",
      "Validation size( 2 ):  238\n",
      "Test size( 2 ):  79\n",
      "Train size( 5 ):  1416\n",
      "Validation size( 5 ):  265\n",
      "Test size( 5 ):  88\n"
     ]
    }
   ],
   "source": [
    "for cls in classes_list:\n",
    "    path = os.path.join(tomato_dataset_dir, cls)\n",
    "    fnames = os.listdir(path)\n",
    "    train_size = math.floor(len(fnames) * 0.8)\n",
    "    validation_size = math.floor(len(fnames) * 0.15)\n",
    "    test_size = math.floor(len(fnames) * 0.05)\n",
    "    \n",
    "    train_fnames = fnames[:train_size]\n",
    "    print(\"Train size(\",cls,\"): \", len(train_fnames))\n",
    "    for fname in train_fnames:\n",
    "        src = os.path.join(path, fname)\n",
    "        dst = os.path.join(os.path.join(train_dir, cls), fname)\n",
    "        shutil.copyfile(src, dst)\n",
    "        \n",
    "    validation_fnames = fnames[train_size:(validation_size + train_size)]\n",
    "    print(\"Validation size(\",cls,\"): \", len(validation_fnames))\n",
    "    for fname in validation_fnames:\n",
    "        src = os.path.join(path, fname)\n",
    "        dst = os.path.join(os.path.join(validation_dir, cls), fname)\n",
    "        shutil.copyfile(src, dst)\n",
    "        \n",
    "    \n",
    "    test_fnames = fnames[(train_size+validation_size):(validation_size + train_size +test_size)]\n",
    "    print(\"Test size(\",cls,\"): \", len(test_fnames))\n",
    "    for fname in test_fnames:\n",
    "        src = os.path.join(path, fname)\n",
    "        dst = os.path.join(os.path.join(test_dir, cls), fname)\n",
    "        shutil.copyfile(src, dst)"
   ]
  },
  {
   "cell_type": "code",
   "execution_count": null,
   "metadata": {},
   "outputs": [],
   "source": []
  },
  {
   "cell_type": "code",
   "execution_count": null,
   "metadata": {},
   "outputs": [],
   "source": []
  },
  {
   "cell_type": "code",
   "execution_count": null,
   "metadata": {},
   "outputs": [],
   "source": []
  }
 ]
}